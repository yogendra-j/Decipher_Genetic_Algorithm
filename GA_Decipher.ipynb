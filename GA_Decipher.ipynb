{
 "cells": [
  {
   "cell_type": "code",
   "execution_count": 116,
   "metadata": {},
   "outputs": [],
   "source": [
    "import numpy as np\n",
    "import random\n",
    "import re\n"
   ]
  },
  {
   "cell_type": "code",
   "execution_count": 117,
   "metadata": {},
   "outputs": [],
   "source": [
    "def encode_text(text, map_true):\n",
    "    '''encode or decode text based on mapping passed'''\n",
    "    text = text.lower()\n",
    "    non_alpha_chars = re.compile('[^a-zA-Z]')\n",
    "    text = non_alpha_chars.sub(\" \", text)\n",
    "    \n",
    "    encoded_text = []\n",
    "    for ch in text:\n",
    "        ch = map_true.get(ch, ch) #if space then ignore\n",
    "        encoded_text.append(ch)\n",
    "        \n",
    "    return \"\".join(encoded_text)"
   ]
  },
  {
   "cell_type": "markdown",
   "metadata": {},
   "source": [
    "Will be using `2-grams and unigrams` to build markov model\n",
    "`p(book)` is probability of a word \"book\" which can be broken as follows: (chain rule)\n",
    "* `p(book)` reduces to `p(k/boo) * p(o/bo) * p(o/b) * p(b)`\n",
    "* which again reduces to `p(k/o) * p(o/o) * p(o/b) * p(b)` due to markov assumption\n"
   ]
  },
  {
   "cell_type": "markdown",
   "metadata": {},
   "source": [
    "Markov prob matrix will be `26 x 26`.\n"
   ]
  },
  {
   "cell_type": "code",
   "execution_count": 118,
   "metadata": {},
   "outputs": [],
   "source": [
    "# initializing by 1 not zero to avoid zero probability for words that didnt appear in train text\n",
    "bigram_mat = np.ones((26, 26))\n",
    "\n",
    "unigram_mat = np.ones(26)\n",
    "\n",
    "def get_index(ch):\n",
    "    return ord(ch) - ord('a')"
   ]
  },
  {
   "cell_type": "code",
   "execution_count": 119,
   "metadata": {},
   "outputs": [],
   "source": [
    "def update_bigram_mat(ch1, ch2):\n",
    "    bigram_mat[get_index(ch1), get_index(ch2)] += 1\n",
    "\n",
    "\n",
    "def update_unigram_mat(ch):\n",
    "    unigram_mat[get_index(ch)] += 1\n",
    "\n",
    "def update_prob_mats_with_sents(words):\n",
    "    words = words.split()\n",
    "    for word in words:\n",
    "        update_unigram_mat(word[0])\n",
    "        for i, ch in enumerate(word[: - 1]):\n",
    "            update_bigram_mat(ch, word[i + 1])"
   ]
  },
  {
   "cell_type": "code",
   "execution_count": 120,
   "metadata": {},
   "outputs": [],
   "source": [
    "#using log scale prob to counter very low values of probabilities because of very large sample space\n",
    "def get_word_prob(word):\n",
    "    '''returns p(word) via chain rule in log scale'''\n",
    "    logp = 0\n",
    "    #adding unigram prob for first letter\n",
    "    logp += np.log(unigram_mat[get_index(word[0])])\n",
    "    \n",
    "    #bigram probs, from second letter\n",
    "    for i, ch in enumerate(word[: -1]):\n",
    "        logp += np.log(bigram_mat[get_index(ch), get_index(word[i + 1])])\n",
    "    \n",
    "    return logp\n",
    "    "
   ]
  },
  {
   "cell_type": "code",
   "execution_count": 121,
   "metadata": {},
   "outputs": [],
   "source": [
    "def get_sent_prob(words):\n",
    "    '''returns log prob of sequence of words'''\n",
    "    if type(words) == str:\n",
    "        words = words.split()\n",
    "    \n",
    "    logp = 0\n",
    "    for word in words:\n",
    "        logp += get_word_prob(word)\n",
    "    return logp"
   ]
  },
  {
   "cell_type": "code",
   "execution_count": 122,
   "metadata": {},
   "outputs": [],
   "source": [
    "# build prob matrixs for train text\n",
    "def make_prob_mat(file_name):\n",
    "    global unigram_mat, bigram_mat\n",
    "    not_alpha_re = re.compile('[^a-zA-Z]')\n",
    "    with open(file_name, 'r', encoding='utf-8') as train:\n",
    "        for line in train:\n",
    "            line = line.strip()\n",
    "            #if non empty line\n",
    "            if line:\n",
    "                #replace non alpha chars\n",
    "                line = not_alpha_re.sub(\" \", line)\n",
    "                words = line.lower()\n",
    "                update_prob_mats_with_sents(words)\n",
    "    # calculate prob (normalize mats)\n",
    "    unigram_mat /= unigram_mat.sum()\n",
    "    bigram_mat /= bigram_mat.sum(axis = 1, keepdims=True)\n",
    "                "
   ]
  },
  {
   "cell_type": "code",
   "execution_count": 123,
   "metadata": {},
   "outputs": [],
   "source": [
    "class Genetic_decoder:\n",
    "    \n",
    "    def __init__(self, population=20):\n",
    "        self.population = population\n",
    "        self.dna_pool = []\n",
    "        for _ in range(population):\n",
    "            dna = [chr(i) for i in range(ord('a'), ord('z') + 1)]\n",
    "            random.shuffle(dna)\n",
    "            self.dna_pool.append(dna)\n",
    "    \n",
    "    \n",
    "    def get_population_scores(self, encoded_text):\n",
    "        scores = []\n",
    "        for i, dna in enumerate(self.dna_pool):\n",
    "            cur_map = {chr(ord('a') + i): dna[i] for i in range(len(dna))}\n",
    "            decoded_text = encode_text(encoded_text, cur_map)\n",
    "            scores.append(get_sent_prob(decoded_text))\n",
    "        \n",
    "        return scores\n",
    "    \n",
    "    \n",
    "    def remove_unfits(self, scores, keep=5):\n",
    "        #sort dna_pool based of scores\n",
    "        indexs = range(len(scores))\n",
    "        indexs = sorted(indexs, key=scores.__getitem__, reverse=True)\n",
    "        self.dna_pool = [self.dna_pool[i] for i in indexs]\n",
    "        self.dna_pool = self.dna_pool[: keep]\n",
    "        \n",
    "    \n",
    "    def decipher(self, encoded_text, num_iters = 1000):\n",
    "        scores = self.get_population_scores(encoded_text)\n",
    "        self.remove_unfits(scores) # keep 5\n",
    "        for i in range(num_iters):\n",
    "            \n",
    "            #make 3 child each so total will remain 20\n",
    "            self.next_generation(num_children=3)\n",
    "            scores = self.get_population_scores(encoded_text)\n",
    "            self.remove_unfits(scores)\n",
    "            if i % 100 == 0:\n",
    "                print(f\"Progress: {i}/{num_iters}, Best score: {max(scores)}\")\n",
    "                \n",
    "        return {chr(ord('a') + i): self.dna_pool[0][i] for i in range(26)}\n",
    "            \n",
    "    \n",
    "    def next_generation(self, num_children=3):\n",
    "        children = []\n",
    "        #making n childern per dna\n",
    "        for dna in self.dna_pool:\n",
    "            for _ in range(num_children):\n",
    "                child = dna.copy()\n",
    "                #swaping two genes (mappings) \n",
    "                i, j = random.randint(0, len(child) - 1), random.randint(0, len(child) - 1)\n",
    "                child[i], child[j] = child[j], child[i]\n",
    "                children.append(child)\n",
    "                \n",
    "        self.dna_pool.extend(children)\n",
    "    \n",
    "    \n",
    "        "
   ]
  },
  {
   "cell_type": "markdown",
   "metadata": {},
   "source": [
    "# Training on \"The Magic of OZ\""
   ]
  },
  {
   "cell_type": "code",
   "execution_count": 124,
   "metadata": {},
   "outputs": [],
   "source": [
    "make_prob_mat('./the_magic_of_oz.txt')"
   ]
  },
  {
   "cell_type": "markdown",
   "metadata": {},
   "source": [
    "# Testing"
   ]
  },
  {
   "cell_type": "code",
   "execution_count": 125,
   "metadata": {},
   "outputs": [],
   "source": [
    "# cipher is mapping of letters to unknown latters like a to x, b to z ...z to c. to break the chiper mapping shold be determined.\n",
    "key_latters = [chr(i) for i in range(ord('a'), ord('z') + 1)]\n",
    "mapped_latters = [chr(i) for i in range(ord('a'), ord('z') + 1)]\n",
    "\n",
    "#creating a substitution ciphar\n",
    "random.shuffle(mapped_latters)\n",
    "map_true = {key_latters[i]: mapped_latters[i] for i in range(26)}"
   ]
  },
  {
   "cell_type": "code",
   "execution_count": 150,
   "metadata": {},
   "outputs": [],
   "source": [
    "orignal_text = '''n recent times, cryptography has turned into a battleground of some of the world's best mathematicians and computer scientists. The ability to securely store and transfer sensitive information has proved a critical factor in success in war and business.\n",
    "Because governments do not wish certain entities in and out of their countries to have access to ways to receive and send hidden information that may be a threat to national interests, cryptography has been subject to various restrictions in many countries, ranging from limitations of the usage and export of software to the public dissemination of mathematical concepts that could be used to develop cryptosystems. However, the internet has allowed the spread of powerful programs and, more importantly, the underlying techniques of cryptography, so that today many of the most advanced cryptosystems and ideas are now in the public domain.'''"
   ]
  },
  {
   "cell_type": "code",
   "execution_count": 151,
   "metadata": {},
   "outputs": [],
   "source": [
    "encoded_text = encode_text(orignal_text, map_true)"
   ]
  },
  {
   "cell_type": "code",
   "execution_count": 152,
   "metadata": {},
   "outputs": [
    {
     "data": {
      "text/plain": [
       "'h afefhk kcofy  eaxrkldatrqx qty kzahfu chkl t gtkkpfdalzhu lw ylof lw kqf jlapu y gfyk otkqfotkcecthy thu elorzkfa yecfhkcyky  kqf tgcpckx kl yfezafpx yklaf thu kathywfa yfhyckcif chwlaotkclh qty ralifu t eackcetp wtekla ch yzeefyy ch jta thu gzychfyy  gfetzyf dlifahofhky ul hlk jcyq efaktch fhkckcfy ch thu lzk lw kqfca elzhkacfy kl qtif teefyy kl jtxy kl afefcif thu yfhu qcuufh chwlaotkclh kqtk otx gf t kqaftk kl htkclhtp chkfafyky  eaxrkldatrqx qty gffh yzgsfek kl itaclzy afykacekclhy ch othx elzhkacfy  athdchd walo pcocktkclhy lw kqf zytdf thu fmrlak lw ylwkjtaf kl kqf rzgpce ucyyfochtkclh lw otkqfotkcetp elhefrky kqtk elzpu gf zyfu kl ufifplr eaxrklyxykfoy  qljfifa  kqf chkfahfk qty tppljfu kqf yraftu lw rljfawzp raldatoy thu  olaf corlakthkpx  kqf zhufapxchd kfeqhcnzfy lw eaxrkldatrqx  yl kqtk klutx othx lw kqf olyk tuithefu eaxrklyxykfoy thu cufty taf hlj ch kqf rzgpce ulotch '"
      ]
     },
     "execution_count": 152,
     "metadata": {},
     "output_type": "execute_result"
    }
   ],
   "source": [
    "encoded_text"
   ]
  },
  {
   "cell_type": "markdown",
   "metadata": {},
   "source": [
    "#### Using first 1000 chars for decoding"
   ]
  },
  {
   "cell_type": "code",
   "execution_count": 156,
   "metadata": {},
   "outputs": [
    {
     "name": "stdout",
     "output_type": "stream",
     "text": [
      "Progress: 0/500, Best score: -3478.973203625758\n",
      "Progress: 100/500, Best score: -2308.333206363558\n",
      "Progress: 200/500, Best score: -2183.493375800646\n",
      "Progress: 300/500, Best score: -2004.808902588434\n",
      "Progress: 400/500, Best score: -1861.1100939995238\n"
     ]
    }
   ],
   "source": [
    "ga_decoder = Genetic_decoder(population=25)\n",
    "key_map = ga_decoder.decipher(encoded_text, num_iters=500)"
   ]
  },
  {
   "cell_type": "code",
   "execution_count": 157,
   "metadata": {},
   "outputs": [],
   "source": [
    "decoded_text = encode_text(encoded_text, key_map)"
   ]
  },
  {
   "cell_type": "code",
   "execution_count": 158,
   "metadata": {},
   "outputs": [
    {
     "data": {
      "text/plain": [
       "'n recent times  cryptography has turned into a battleground of some of the world s best mathematicians and computer scientists  the ability to securely store and transfer sensitive information has proved a critical factor in success in war and business  because governments do not wish certain entities in and out of their countries to have access to ways to receive and send hidden information that may be a threat to national interests  cryptography has been subject to various restrictions in many countries  ranging from limitations of the usage and export of software to the public dissemination of mathematical concepts that could be used to develop cryptosystems  however  the internet has allowed the spread of powerful programs and  more importantly  the underlying techniques of cryptography  so that today many of the most advanced cryptosystems and ideas are now in the public domain '"
      ]
     },
     "execution_count": 158,
     "metadata": {},
     "output_type": "execute_result"
    }
   ],
   "source": [
    "decoded_text"
   ]
  },
  {
   "cell_type": "code",
   "execution_count": null,
   "metadata": {},
   "outputs": [],
   "source": []
  }
 ],
 "metadata": {
  "kernelspec": {
   "display_name": "Python 3",
   "language": "python",
   "name": "python3"
  },
  "language_info": {
   "codemirror_mode": {
    "name": "ipython",
    "version": 3
   },
   "file_extension": ".py",
   "mimetype": "text/x-python",
   "name": "python",
   "nbconvert_exporter": "python",
   "pygments_lexer": "ipython3",
   "version": "3.8.3"
  }
 },
 "nbformat": 4,
 "nbformat_minor": 4
}
